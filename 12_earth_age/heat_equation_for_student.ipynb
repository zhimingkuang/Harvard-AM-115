{
 "cells": [
  {
   "cell_type": "markdown",
   "id": "virgin-lawyer",
   "metadata": {},
   "source": [
    "[![Open In Colab](https://colab.research.google.com/assets/colab-badge.svg)](https://colab.research.google.com/github/zhimingkuang/Harvard-AM-115/blob/main/12_earth_age/heat_equation_for_student.ipynb)"
   ]
  },
  {
   "cell_type": "code",
   "execution_count": 1,
   "id": "military-croatia",
   "metadata": {},
   "outputs": [],
   "source": [
    "import numpy as np \n",
    "import matplotlib.pyplot as plt \n",
    "from scipy.integrate import solve_ivp\n",
    "import scipy.sparse as sparse\n",
    "import time\n",
    "import IPython.display as IP"
   ]
  },
  {
   "cell_type": "code",
   "execution_count": 2,
   "id": "35988459",
   "metadata": {},
   "outputs": [],
   "source": [
    "# Define the number of grid points\n",
    "m = 51\n",
    "# Define grid spacing\n",
    "dx = 1\n",
    "# Define the grid\n",
    "x = np.linspace(dx, m*dx, num=m, endpoint=True)\n",
    "# Integration time\n",
    "time_e = 100\n",
    "\n",
    "# Initial condition\n",
    "y0 = np.exp(-((x-26.) / 20.)**2) # a broad Gaussion to illustrate fixed BC\n",
    "# Define diffusivity\n",
    "D = 1\n",
    "\n",
    "# Define the Laplacian operator\n",
    "e1 = np.ones((1, m)) # build a vector of ones\n",
    "diags = np.concatenate((e1, -2.*e1, e1)) # diagonal entries\n",
    "offsets = np.array([-1, 0, 1]) # which diagonals\n",
    "A = sparse.dia_matrix((diags, offsets), shape=(m, m)) # diagonal matrix\n",
    "\n",
    "# Assume fixed y values at boundaries\n",
    "b = np.zeros(m)\n",
    "b[0] = y0[0]\n",
    "b[-1] = y0[-1]\n",
    "# Take to be the same as nearby initial values but doesn't have to be so\n",
    "\n",
    "# If it is the no flux boundary condition, modify A as the follows\n",
    "# Think about why.\n",
    "# A[0,0] = -1.\n",
    "# A[m-1,m-1] = -1.\n",
    "# b[:] = 0."
   ]
  },
  {
   "cell_type": "code",
   "execution_count": 3,
   "id": "2bd13b2d",
   "metadata": {},
   "outputs": [],
   "source": [
    "# Use ode solvers for this; method of lines\n",
    "def F(t, y, D, A, b, dx):\n",
    "    \"\"\"RHS of the heat equation\n",
    "\n",
    "    Args:\n",
    "        t (float): 1-D independent variable (time)\n",
    "        y (numpy.ndarray): N-D vector-valued function (state)\n",
    "        D (float): diffusivity\n",
    "        A (numpy.ndarray): Laplacian operator\n",
    "        b (numpy.ndarray): source term\n",
    "        dx (float): grid spacing\n",
    "\n",
    "    Returns:\n",
    "        numpy.ndarray: differential equation\n",
    "        \n",
    "    \"\"\"\n",
    "    return D * (sparse.csr_matrix.dot(A, y) + b) / (dx**2)\n",
    "\n",
    "sol = solve_ivp(F, [0, time_e], y0, args=(D, A, b, dx), max_step=1.)\n",
    "t = sol.t\n",
    "y = sol.y"
   ]
  },
  {
   "cell_type": "code",
   "execution_count": 4,
   "id": "fd18712b",
   "metadata": {},
   "outputs": [],
   "source": [
    "# Customize for matplotlib\n",
    "# If interested in the matplotlib object hierarchy, check: https://realpython.com/python-matplotlib-guide/\n",
    "plt.rcParams['axes.linewidth'] = 1\n",
    "plt.rcParams['xtick.bottom'] = True\n",
    "plt.rcParams['ytick.left'] = True\n",
    "plt.rcParams['xtick.direction'] = 'in'\n",
    "plt.rcParams['ytick.direction'] = 'in'\n",
    "plt.rcParams['mathtext.default'] = 'regular'\n",
    "# Change font size: http://www.futurile.net/2016/02/27/matplotlib-beautiful-plots-with-style/\n",
    "plt.rcParams['font.size'] = 12\n",
    "plt.rcParams['axes.labelsize'] = 14\n",
    "plt.rcParams['axes.labelweight'] = 'bold'\n",
    "plt.rcParams['xtick.labelsize'] = 12\n",
    "plt.rcParams['ytick.labelsize'] = 12\n",
    "plt.rcParams['legend.fontsize'] = 14\n",
    "plt.rcParams['figure.titlesize'] = 20"
   ]
  },
  {
   "cell_type": "code",
   "execution_count": 5,
   "id": "fleet-grove",
   "metadata": {},
   "outputs": [
    {
     "data": {
      "image/png": "[encoded data removed]",
      "text/plain": [
       "<Figure size 648x504 with 1 Axes>"
      ]
     },
     "metadata": {},
     "output_type": "display_data"
    }
   ],
   "source": [
    "# Alternative way to animate the solution using FuncAnimation\n",
    "fig = plt.figure(figsize=(9,7))\n",
    "ax = fig.add_subplot(1, 1, 1) \n",
    "\n",
    "for i,time in enumerate(t):\n",
    "    ax.cla()\n",
    "    ax.plot(x, y[:,i], 'r-o')\n",
    "    ax.set_xlim(0, 51.5)\n",
    "    ax.set_ylim(0, 1)\n",
    "    ax.set_xlabel(r'$x$')\n",
    "    ax.set_ylabel(r'$y$')\n",
    "    ax.set_title(r'$t = %.3f$' % time)\n",
    "    \n",
    "    IP.display(fig)\n",
    "    IP.clear_output(wait = True)\n",
    "    plt.pause(0.01)"
   ]
  },
  {
   "cell_type": "code",
   "execution_count": null,
   "id": "equipped-roads",
   "metadata": {},
   "outputs": [],
   "source": []
  }
 ],
 "metadata": {
  "kernelspec": {
   "display_name": "Python 3 (ipykernel)",
   "language": "python",
   "name": "python3"
  },
  "language_info": {
   "codemirror_mode": {
    "name": "ipython",
    "version": 3
   },
   "file_extension": ".py",
   "mimetype": "text/x-python",
   "name": "python",
   "nbconvert_exporter": "python",
   "pygments_lexer": "ipython3",
   "version": "3.9.10"
  }
 },
 "nbformat": 4,
 "nbformat_minor": 5
}
