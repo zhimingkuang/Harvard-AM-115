{
 "cells": [
  {
   "cell_type": "markdown",
   "metadata": {},
   "source": [
    "[![Open In Colab](https://colab.research.google.com/assets/colab-badge.svg)](https://colab.research.google.com/github/zhimingkuang/Harvard-AM-115/blob/main/02_numerics/flame.ipynb)"
   ]
  },
  {
   "cell_type": "code",
   "execution_count": 1,
   "metadata": {},
   "outputs": [],
   "source": [
    "import numpy as np\n",
    "import matplotlib.pyplot as plt\n",
    "from scipy.integrate import solve_ivp"
   ]
  },
  {
   "cell_type": "code",
   "execution_count": 2,
   "metadata": {},
   "outputs": [],
   "source": [
    "# Flame propagation\n",
    "# Define ODE dy/dt=y^2-y^3\n",
    "delta = 0.0001 # initial condition\n",
    "F = lambda t, y: y**2-y**3 \n",
    "reltol = 1e-4\n",
    "\n",
    "# # Solve ODE with RK45\n",
    "sol = solve_ivp(F, [0, 4/delta], [delta], rtol=reltol)\n",
    "# Unpack solution\n",
    "t, y = sol.t, sol.y"
   ]
  },
  {
   "cell_type": "code",
   "execution_count": 3,
   "metadata": {},
   "outputs": [],
   "source": [
    "# Customize for matplotlib\n",
    "# If interested in the matplotlib object hierarchy, check: https://realpython.com/python-matplotlib-guide/\n",
    "plt.rcParams['axes.linewidth'] = 1\n",
    "plt.rcParams['xtick.bottom'] = True\n",
    "plt.rcParams['ytick.left'] = True\n",
    "plt.rcParams['xtick.direction'] = 'in'\n",
    "plt.rcParams['ytick.direction'] = 'in'\n",
    "plt.rcParams['mathtext.default'] = 'regular'\n",
    "# Change font size: http://www.futurile.net/2016/02/27/matplotlib-beautiful-plots-with-style/\n",
    "plt.rcParams['font.size'] = 12\n",
    "plt.rcParams['axes.labelsize'] = 14\n",
    "plt.rcParams['axes.labelweight'] = 'bold'\n",
    "plt.rcParams['xtick.labelsize'] = 12\n",
    "plt.rcParams['ytick.labelsize'] = 12\n",
    "plt.rcParams['legend.fontsize'] = 14\n",
    "plt.rcParams['figure.titlesize'] = 20"
   ]
  },
  {
   "cell_type": "code",
   "execution_count": 4,
   "metadata": {},
   "outputs": [
    {
     "data": {
      "image/png": "[encoded data removed]",
      "text/plain": [
       "<Figure size 648x504 with 1 Axes>"
      ]
     },
     "metadata": {
      "needs_background": "light"
     },
     "output_type": "display_data"
    }
   ],
   "source": [
    "# Plot the final solution\n",
    "fig, ax = plt.subplots(1,1,figsize=(9,7))\n",
    "\n",
    "plt.plot(t, y[0,:], '-o', linewidth=1.5, mfc='none', ms=5.5, mew=1.5)\n",
    "\n",
    "# Set axes labels\n",
    "ax.set_xlabel(r'$t$')\n",
    "ax.set_ylabel(r'$y$')\n",
    "\n",
    "plt.show()"
   ]
  },
  {
   "cell_type": "markdown",
   "metadata": {},
   "source": [
    "We can also use the custom written `ode45` in Python to integrate ODE."
   ]
  },
  {
   "cell_type": "code",
   "execution_count": 5,
   "metadata": {},
   "outputs": [],
   "source": [
    "from scipy.integrate import ode"
   ]
  },
  {
   "cell_type": "code",
   "execution_count": 6,
   "metadata": {},
   "outputs": [],
   "source": [
    "# Creating a function equivalent to ode45 in Matlab\n",
    "def ode45(f, tint, y0, rtol=1e-9):\n",
    "    \"\"\"Python implementation of MATLAB ode45\n",
    "\n",
    "    Args:\n",
    "        f (function): differential equation to solve\n",
    "        tint (list): time interval endpoints\n",
    "        y0 (list): initial condition\n",
    "        rtol (float): relative tolerance\n",
    "\n",
    "    Returns:\n",
    "        tt (list): time intervel\n",
    "        rr (list): array of solutions (theta, dtheta)\n",
    "        \n",
    "    \"\"\"\n",
    "    \n",
    "    r = ode(f).set_integrator('zvode', method='bdf',rtol=rtol)\n",
    "    r.set_initial_value(y0, tint[0])\n",
    "    dt = (tint[1]-tint[0])/10000 # note that here is 10000 instead of 100\n",
    "    t1 = tint[1]\n",
    "    tt = []\n",
    "    rr = []\n",
    "    while r.successful() and r.t < t1:\n",
    "        tt.append(r.t+dt)\n",
    "        rr.append(np.real(r.integrate(r.t+dt)))\n",
    "        \n",
    "    return tt, rr"
   ]
  },
  {
   "cell_type": "code",
   "execution_count": 7,
   "metadata": {},
   "outputs": [],
   "source": [
    "# Flame propagation\n",
    "# Define ODE dy/dt=y^2-y^3\n",
    "delta = 0.0001 # initial condition\n",
    "F = lambda t, y: y**2-y**3 \n",
    "reltol = 1e-4\n",
    "\n",
    "# # Solve ODE with custom ode45\n",
    "t, y = ode45(F, [0, 40000], delta)"
   ]
  },
  {
   "cell_type": "code",
   "execution_count": 8,
   "metadata": {},
   "outputs": [
    {
     "data": {
      "image/png": "[encoded data removed]",
      "text/plain": [
       "<Figure size 648x504 with 1 Axes>"
      ]
     },
     "metadata": {
      "needs_background": "light"
     },
     "output_type": "display_data"
    }
   ],
   "source": [
    "# Plot the final solution\n",
    "fig, ax = plt.subplots(1,1,figsize=(9,7))\n",
    "\n",
    "plt.plot(t, y, '-o', linewidth=1.5, mfc='none', ms=5.5, mew=1.5)\n",
    "\n",
    "# Set axes labels\n",
    "ax.set_xlabel(r'$t$')\n",
    "ax.set_ylabel(r'$y$')\n",
    "\n",
    "plt.show()"
   ]
  },
  {
   "cell_type": "code",
   "execution_count": null,
   "metadata": {},
   "outputs": [],
   "source": []
  }
 ],
 "metadata": {
  "kernelspec": {
   "display_name": "Python 3 (ipykernel)",
   "language": "python",
   "name": "python3"
  },
  "language_info": {
   "codemirror_mode": {
    "name": "ipython",
    "version": 3
   },
   "file_extension": ".py",
   "mimetype": "text/x-python",
   "name": "python",
   "nbconvert_exporter": "python",
   "pygments_lexer": "ipython3",
   "version": "3.9.10"
  }
 },
 "nbformat": 4,
 "nbformat_minor": 4
}
