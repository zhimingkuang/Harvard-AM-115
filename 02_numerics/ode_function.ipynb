{
 "cells": [
  {
   "cell_type": "markdown",
   "metadata": {},
   "source": [
    "[![Open In Colab](https://colab.research.google.com/assets/colab-badge.svg)](https://colab.research.google.com/github/zhimingkuang/Harvard-AM-115/blob/main/02_numerics/ode_function.ipynb)"
   ]
  },
  {
   "cell_type": "code",
   "execution_count": 1,
   "metadata": {},
   "outputs": [],
   "source": [
    "import numpy as np\n",
    "import matplotlib.pyplot as plt\n",
    "from scipy.integrate import solve_ivp"
   ]
  },
  {
   "cell_type": "code",
   "execution_count": 2,
   "metadata": {},
   "outputs": [],
   "source": [
    "# Create an ODE function\n",
    "def f(t, y, r):\n",
    "    \"\"\"Python implementation of MATLAB ode45\n",
    "\n",
    "    Args:\n",
    "        t (float): 1-D independent variable (time)\n",
    "        y (numpy.ndarray): N-D vector-valued function (state)\n",
    "        r (float): constant in ODE\n",
    "\n",
    "    Returns:\n",
    "        numpy.ndarray: differential equation\n",
    "        \n",
    "    \"\"\"\n",
    "    \n",
    "    ydot = r*y**2\n",
    "    \n",
    "    return ydot"
   ]
  },
  {
   "cell_type": "code",
   "execution_count": 3,
   "metadata": {},
   "outputs": [],
   "source": [
    "# An example illustrating the definition of a function for use in solve_ivp\n",
    "def ode_function():\n",
    "    \"\"\"Main function to define, solve and plot an ODE solution\n",
    "    \n",
    "    \"\"\"\n",
    "    \n",
    "    # Set initial condition and constant\n",
    "    y0 = 1.0\n",
    "    r = -1.0\n",
    "    \n",
    "    # Solve ODE with RK45\n",
    "    sol = solve_ivp(lambda t,y: f(t,y,r), [0,5], [y0], t_eval=np.linspace(0,5,25))\n",
    "    # Unpack solution\n",
    "    t, y = sol.t, sol.y\n",
    "    \n",
    "    # Plot solution\n",
    "    fig, ax = plt.subplots(1,1,figsize=(9,7))\n",
    "\n",
    "    plt.plot(t, y[0,:], '-o', linewidth=1.5, mfc='none', ms=5.5, mew=1.5)\n",
    "\n",
    "    # Set axes labels\n",
    "    ax.set_xlabel(r'$t$')\n",
    "    ax.set_ylabel(r'$y$')\n",
    "\n",
    "    plt.show()"
   ]
  },
  {
   "cell_type": "code",
   "execution_count": 4,
   "metadata": {},
   "outputs": [],
   "source": [
    "# Customize for matplotlib\n",
    "# If interested in the matplotlib object hierarchy, check: https://realpython.com/python-matplotlib-guide/\n",
    "plt.rcParams['axes.linewidth'] = 1\n",
    "plt.rcParams['xtick.bottom'] = True\n",
    "plt.rcParams['ytick.left'] = True\n",
    "plt.rcParams['xtick.direction'] = 'in'\n",
    "plt.rcParams['ytick.direction'] = 'in'\n",
    "plt.rcParams['mathtext.default'] = 'regular'\n",
    "# Change font size: http://www.futurile.net/2016/02/27/matplotlib-beautiful-plots-with-style/\n",
    "plt.rcParams['font.size'] = 12\n",
    "plt.rcParams['axes.labelsize'] = 14\n",
    "plt.rcParams['axes.labelweight'] = 'bold'\n",
    "plt.rcParams['xtick.labelsize'] = 12\n",
    "plt.rcParams['ytick.labelsize'] = 12\n",
    "plt.rcParams['legend.fontsize'] = 14\n",
    "plt.rcParams['figure.titlesize'] = 20"
   ]
  },
  {
   "cell_type": "code",
   "execution_count": 5,
   "metadata": {},
   "outputs": [
    {
     "data": {
      "image/png": "[encoded data removed]",
      "text/plain": [
       "<Figure size 648x504 with 1 Axes>"
      ]
     },
     "metadata": {
      "needs_background": "light"
     },
     "output_type": "display_data"
    }
   ],
   "source": [
    "# Call main function to define/solve/plot ODE solution\n",
    "ode_function()"
   ]
  }
 ],
 "metadata": {
  "kernelspec": {
   "display_name": "Python 3 (ipykernel)",
   "language": "python",
   "name": "python3"
  },
  "language_info": {
   "codemirror_mode": {
    "name": "ipython",
    "version": 3
   },
   "file_extension": ".py",
   "mimetype": "text/x-python",
   "name": "python",
   "nbconvert_exporter": "python",
   "pygments_lexer": "ipython3",
   "version": "3.9.10"
  }
 },
 "nbformat": 4,
 "nbformat_minor": 4
}
