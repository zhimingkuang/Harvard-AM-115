{
 "cells": [
  {
   "cell_type": "markdown",
   "metadata": {},
   "source": [
    "[![Open In Colab](https://colab.research.google.com/assets/colab-badge.svg)](https://colab.research.google.com/github/zhimingkuang/Harvard-AM-115/blob/main/14_optimization/linear_programming_example.ipynb)"
   ]
  },
  {
   "cell_type": "code",
   "execution_count": 1,
   "metadata": {},
   "outputs": [],
   "source": [
    "from scipy.optimize import linprog"
   ]
  },
  {
   "cell_type": "markdown",
   "metadata": {},
   "source": [
    "### The cup factory example (from Sara Billey) "
   ]
  },
  {
   "cell_type": "markdown",
   "metadata": {},
   "source": [
    "We will solve \n",
    "\n",
    "$$ \\underset{x}{\\rm{min}} \\: c^{T}x \\quad \\rm{s.t.}\\quad Ax\\le b. $$ \n",
    "\n",
    "The first element of $x$ is the number of beer mugs and the second element is the number of champaign cups. "
   ]
  },
  {
   "cell_type": "code",
   "execution_count": 2,
   "metadata": {},
   "outputs": [],
   "source": [
    "# objective function \n",
    "c = [-25, -20]\n",
    "\n",
    "# the constraints \n",
    "A = [[20, 12], [1/15., 1/15.], [-1, 0], [0, -1]]\n",
    "b = [1800, 8, 0, 0] "
   ]
  },
  {
   "cell_type": "code",
   "execution_count": 3,
   "metadata": {},
   "outputs": [
    {
     "name": "stdout",
     "output_type": "stream",
     "text": [
      "           con: array([], dtype=float64)\n",
      " crossover_nit: 0\n",
      "         eqlin:  marginals: array([], dtype=float64)\n",
      "  residual: array([], dtype=float64)\n",
      "           fun: -2625.0\n",
      "       ineqlin:  marginals: array([  -0.625, -187.5  ,   -0.   ,   -0.   ])\n",
      "  residual: array([ 0.,  0., 45., 75.])\n",
      "         lower:  marginals: <MemoryView of 'ndarray' at 0x10fc42d40>\n",
      "  residual: array([45., 75.])\n",
      "       message: 'Optimization terminated successfully.'\n",
      "           nit: 2\n",
      "         slack: array([ 0.,  0., 45., 75.])\n",
      "        status: 0\n",
      "       success: True\n",
      "         upper:  marginals: <MemoryView of 'ndarray' at 0x10fc42ba0>\n",
      "  residual: array([inf, inf])\n",
      "             x: array([45., 75.])\n"
     ]
    }
   ],
   "source": [
    "res = linprog(c, A_ub=A, b_ub=b, method=\"highs-ds\")\n",
    "print(res)"
   ]
  },
  {
   "cell_type": "code",
   "execution_count": 4,
   "metadata": {},
   "outputs": [
    {
     "name": "stdout",
     "output_type": "stream",
     "text": [
      "Maximum profit: 2625.0 \n",
      "x: [45. 75.] \n",
      "Status: Optimization terminated successfully.\n"
     ]
    }
   ],
   "source": [
    "print('Maximum profit:', round(-res.fun, ndigits=2),\n",
    "      '\\nx:', res.x,\n",
    "      '\\nStatus:', res.message)"
   ]
  },
  {
   "cell_type": "code",
   "execution_count": 5,
   "metadata": {},
   "outputs": [
    {
     "name": "stdout",
     "output_type": "stream",
     "text": [
      "Lagrange multipliers: [  0.625 187.5     0.      0.   ]\n"
     ]
    }
   ],
   "source": [
    "# Lagrange multipliers give the shadow price:\n",
    "# Gain in profit if the amount of supply is increased\n",
    "# Gain in profit if the family is willing to work an extra hour\n",
    "print('Lagrange multipliers:', -res['ineqlin']['marginals'])"
   ]
  },
  {
   "cell_type": "code",
   "execution_count": null,
   "metadata": {},
   "outputs": [],
   "source": []
  }
 ],
 "metadata": {
  "kernelspec": {
   "display_name": "Python 3 (ipykernel)",
   "language": "python",
   "name": "python3"
  },
  "language_info": {
   "codemirror_mode": {
    "name": "ipython",
    "version": 3
   },
   "file_extension": ".py",
   "mimetype": "text/x-python",
   "name": "python",
   "nbconvert_exporter": "python",
   "pygments_lexer": "ipython3",
   "version": "3.9.10"
  }
 },
 "nbformat": 4,
 "nbformat_minor": 2
}
