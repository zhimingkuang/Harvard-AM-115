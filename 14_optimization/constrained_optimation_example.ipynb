{
 "cells": [
  {
   "cell_type": "markdown",
   "metadata": {},
   "source": [
    "[![Open In Colab](https://colab.research.google.com/assets/colab-badge.svg)](https://colab.research.google.com/github/zhimingkuang/Harvard-AM-115/blob/main/14_optimization/constrained_optimation_example.ipynb)"
   ]
  },
  {
   "cell_type": "code",
   "execution_count": 1,
   "metadata": {},
   "outputs": [],
   "source": [
    "import numpy as np\n",
    "from scipy.optimize import minimize\n",
    "from scipy.optimize import LinearConstraint"
   ]
  },
  {
   "cell_type": "markdown",
   "metadata": {},
   "source": [
    "We will minimize the utility function $f(x, y) = -x y $ subject to the constraint $2x + y \\le 5$."
   ]
  },
  {
   "cell_type": "code",
   "execution_count": 2,
   "metadata": {},
   "outputs": [],
   "source": [
    "def f(x): \n",
    "    \"\"\"Define the utility function\n",
    "    \n",
    "    Args: \n",
    "        x (numpy.ndarray): 1-D array with shape (n,) \n",
    "    \n",
    "    Returns: \n",
    "        utility function \n",
    "    \"\"\"\n",
    "    return -x[0] * x[1]"
   ]
  },
  {
   "cell_type": "code",
   "execution_count": 3,
   "metadata": {},
   "outputs": [],
   "source": [
    "# Define linear constraint\n",
    "linear_constraint = LinearConstraint([2, 1], [-np.inf], [5])"
   ]
  },
  {
   "cell_type": "code",
   "execution_count": 4,
   "metadata": {},
   "outputs": [
    {
     "name": "stdout",
     "output_type": "stream",
     "text": [
      "Minimum achieved at x: [1.2499936  2.49998721]\n",
      "Maximum utility function value: 3.1249680022174027\n",
      "Lagrange multiplier: [array([1.2499936])]\n"
     ]
    }
   ],
   "source": [
    "# Minimize function subject to linear constraint\n",
    "x0 = [1, 1]\n",
    "res = minimize(f, x0, method='trust-constr', constraints=[linear_constraint])\n",
    "print(f'Minimum achieved at x: {res.x}')\n",
    "print(f'Maximum utility function value: {-res.fun}')\n",
    "print(f'Lagrange multiplier: {res.v}')"
   ]
  },
  {
   "cell_type": "code",
   "execution_count": null,
   "metadata": {},
   "outputs": [],
   "source": []
  }
 ],
 "metadata": {
  "kernelspec": {
   "display_name": "Python 3 (ipykernel)",
   "language": "python",
   "name": "python3"
  },
  "language_info": {
   "codemirror_mode": {
    "name": "ipython",
    "version": 3
   },
   "file_extension": ".py",
   "mimetype": "text/x-python",
   "name": "python",
   "nbconvert_exporter": "python",
   "pygments_lexer": "ipython3",
   "version": "3.9.10"
  }
 },
 "nbformat": 4,
 "nbformat_minor": 2
}
