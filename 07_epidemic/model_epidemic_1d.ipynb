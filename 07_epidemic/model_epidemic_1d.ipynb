{
 "cells": [
  {
   "cell_type": "markdown",
   "id": "4c995df3",
   "metadata": {},
   "source": [
    "[![Open In Colab](https://colab.research.google.com/assets/colab-badge.svg)](https://colab.research.google.com/github/zhimingkuang/Harvard-AM-115/blob/main/07_epidemic/model_epidemic_1d.ipynb)"
   ]
  },
  {
   "cell_type": "code",
   "execution_count": 1,
   "id": "nominated-catch",
   "metadata": {},
   "outputs": [],
   "source": [
    "import numpy as np\n",
    "import matplotlib.pyplot as plt"
   ]
  },
  {
   "cell_type": "code",
   "execution_count": 2,
   "id": "muslim-neighbor",
   "metadata": {},
   "outputs": [],
   "source": [
    "def simulate1D(n, nc, pt):\n",
    "    \"\"\"Package the simulation steps of intializng the population\n",
    "    vector and iterating the epidemic and census functions unit I=0\n",
    "    the censuses are accumulated in a results matrix\n",
    "\n",
    "    Args:\n",
    "        n (int): time\n",
    "        nc (numpy.ndarray): population\n",
    "        pt (float): parameter value\n",
    "\n",
    "    Returns:\n",
    "        tt (list): time\n",
    "        results (list): sir subpopulation at each time\n",
    "        \n",
    "    \"\"\"\n",
    "    \n",
    "    t = 0\n",
    "    # Set up an intial population of susceptibles\n",
    "    pop = initial1D(n,0,0)\n",
    "    # Put an infected individual in the middle\n",
    "    pop[int(n/2)-1] = 'i'\n",
    "    s,i,r = census1D(pop)\n",
    "    # Start the results mnatrix\n",
    "    results = [[s,i,r]]\n",
    "    tt=[t]\n",
    "    \n",
    "    while i>0:\n",
    "        pop = epidemic1D(nc,pt,pop)\n",
    "        s,i,r = census1D(pop)\n",
    "        results.append([s,i,r])\n",
    "        t = t+1\n",
    "        tt.append(t)\n",
    "        \n",
    "    return tt,results"
   ]
  },
  {
   "cell_type": "code",
   "execution_count": 3,
   "id": "speaking-content",
   "metadata": {},
   "outputs": [],
   "source": [
    "def initial1D(s0,i0,r0):\n",
    "    \"\"\"Set an initial population vector for the epidemic simulation;\n",
    "    each state subpopulation is appended to the growing vector, pop\n",
    "    \n",
    "    NOTE: if position in the array is important,eg. if you are modeling\n",
    "    local neighborhood contacts, each individual must be placed \n",
    "    randomly in the array\n",
    "\n",
    "    Args:\n",
    "        s0 (int): initial population of susceptibles\n",
    "        i0 (int): initial population of infectious\n",
    "        r0 (int): initial population of recovered\n",
    "\n",
    "    Returns:\n",
    "        list: net population vector of subpopulation of each state\n",
    "        \n",
    "    \"\"\"\n",
    "    \n",
    "    pop = []\n",
    "    for i in range(s0):\n",
    "        pop.append('s')\n",
    "    for i in range(i0):\n",
    "        pop.append('i')\n",
    "    for i in range(r0):\n",
    "        pop.append('r')\n",
    "        \n",
    "    return pop"
   ]
  },
  {
   "cell_type": "code",
   "execution_count": 4,
   "id": "operational-restoration",
   "metadata": {},
   "outputs": [],
   "source": [
    "def census1D(pop):\n",
    "    \"\"\"Count the number of s, i and r cells in pop\n",
    "\n",
    "    Args:\n",
    "        pop (list): net population vector of subpopulation of each state\n",
    "\n",
    "    Returns:\n",
    "        s (int): number of susceptibles\n",
    "        i (int): number of infectious\n",
    "        r (int): number of recovered\n",
    "        \n",
    "    \"\"\"\n",
    "    \n",
    "    s = 0\n",
    "    i = 0\n",
    "    r = 0\n",
    "    # pop is a 1 by n array \n",
    "    n = np.array(pop).shape[0]\n",
    "    \n",
    "    for j in range(n):\n",
    "        if pop[j]=='s':\n",
    "            s += 1\n",
    "        elif pop[j]=='i':\n",
    "            i += 1\n",
    "        elif pop[j]=='r':\n",
    "            r += 1\n",
    "            \n",
    "    return s,i,r"
   ]
  },
  {
   "cell_type": "code",
   "execution_count": 5,
   "id": "circular-fleece",
   "metadata": {},
   "outputs": [],
   "source": [
    "def epidemic1D(nc, pt, pop1):\n",
    "    \"\"\"Calculate a new pop2 vector of 's', 'i', and 'r' from \n",
    "    the current pop1 assuming that all 'i' cells go to 'r' \n",
    "    after each has nc random infectious contacts with other \n",
    "    cells. An 's' cell goes to 'i' with probability, pt, if \n",
    "    it is contacted by an 'i'\n",
    "\n",
    "    Args:\n",
    "        nc (int): all 'i' cells go to 'r' after random \n",
    "                  infectious contacts with other cells\n",
    "        pt (float): probability of 's' cell going to 'i'\n",
    "        pop1 (list): current net population vector\n",
    "\n",
    "    Returns:\n",
    "        list: new net population vector\n",
    "        \n",
    "    \"\"\"\n",
    "    \n",
    "    pop2 = pop1.copy() # Set up new vector\n",
    "    n = np.array(pop1).shape[0]\n",
    "    for j in range(n):\n",
    "        if pop1[j]=='i':\n",
    "            for c in range(nc): # nc contact\n",
    "                k = j\n",
    "                while k==j: # try to generate a random k NOT equal to j\n",
    "                    k = np.random.randint(n) # random individual to contact\n",
    "                if pop1[k]=='s' and np.random.rand()<pt: # rand<pt generates a Bernoulli trial\n",
    "                    pop2[k] = 'i' # infect the 's' cell\n",
    "            pop2[j] = 'r' # then the jth individual recovers  \n",
    "            \n",
    "    return pop2"
   ]
  },
  {
   "cell_type": "code",
   "execution_count": 6,
   "id": "assisted-definition",
   "metadata": {},
   "outputs": [],
   "source": [
    "tt,results=simulate1D(9999,4,0.5)\n",
    "results=np.array(results) # change results to numpy.ndarray for plotting purposes"
   ]
  },
  {
   "cell_type": "code",
   "execution_count": 7,
   "id": "12c6accd",
   "metadata": {},
   "outputs": [],
   "source": [
    "# Customize for matplotlib\n",
    "# If interested in the matplotlib object hierarchy, check: https://realpython.com/python-matplotlib-guide/\n",
    "plt.rcParams['axes.linewidth'] = 1\n",
    "plt.rcParams['xtick.bottom'] = True\n",
    "plt.rcParams['ytick.left'] = True\n",
    "plt.rcParams['xtick.direction'] = 'in'\n",
    "plt.rcParams['ytick.direction'] = 'in'\n",
    "plt.rcParams['mathtext.default'] = 'regular'\n",
    "# Change font size: http://www.futurile.net/2016/02/27/matplotlib-beautiful-plots-with-style/\n",
    "plt.rcParams['font.size'] = 12\n",
    "plt.rcParams['axes.labelsize'] = 14\n",
    "plt.rcParams['axes.labelweight'] = 'bold'\n",
    "plt.rcParams['xtick.labelsize'] = 12\n",
    "plt.rcParams['ytick.labelsize'] = 12\n",
    "plt.rcParams['legend.fontsize'] = 14\n",
    "plt.rcParams['figure.titlesize'] = 20"
   ]
  },
  {
   "cell_type": "code",
   "execution_count": 8,
   "id": "c939499c",
   "metadata": {},
   "outputs": [
    {
     "data": {
      "image/png": "[encoded data removed]",
      "text/plain": [
       "<Figure size 648x504 with 1 Axes>"
      ]
     },
     "metadata": {
      "needs_background": "light"
     },
     "output_type": "display_data"
    }
   ],
   "source": [
    "# Plot solution\n",
    "fig, ax = plt.subplots(1,1,figsize=(9,7))\n",
    "\n",
    "ax.plot(tt, results[:,0], '-o', linewidth=1.5, mfc='none', ms=5.5, mew=1.5,  label='susceptible')\n",
    "ax.plot(tt, results[:,1], '-s', linewidth=1.5, mfc='none', ms=5.5, mew=1.5,  label='infectious')\n",
    "ax.plot(tt, results[:,2], '-^', linewidth=1.5, mfc='none', ms=5.5, mew=1.5,  label='recovered')\n",
    "\n",
    "# Set axes labels and legends\n",
    "ax.set_xlabel('population')\n",
    "ax.set_ylabel('time')\n",
    "ax.legend(loc='center left')\n",
    "\n",
    "plt.show()"
   ]
  },
  {
   "cell_type": "code",
   "execution_count": null,
   "id": "b611f9f5",
   "metadata": {},
   "outputs": [],
   "source": []
  }
 ],
 "metadata": {
  "kernelspec": {
   "display_name": "Python 3 (ipykernel)",
   "language": "python",
   "name": "python3"
  },
  "language_info": {
   "codemirror_mode": {
    "name": "ipython",
    "version": 3
   },
   "file_extension": ".py",
   "mimetype": "text/x-python",
   "name": "python",
   "nbconvert_exporter": "python",
   "pygments_lexer": "ipython3",
   "version": "3.9.10"
  }
 },
 "nbformat": 4,
 "nbformat_minor": 5
}
