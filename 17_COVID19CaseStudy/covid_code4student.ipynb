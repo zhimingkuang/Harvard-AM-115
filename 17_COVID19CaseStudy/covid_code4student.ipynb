{
 "cells": [
  {
   "cell_type": "markdown",
   "metadata": {},
   "source": [
    "[![Open In Colab](https://colab.research.google.com/assets/colab-badge.svg)](https://colab.research.google.com/github/zhimingkuang/Harvard-AM-115/blob/main/17_COVID19CaseStudy/covid_code4student.ipynb)"
   ]
  },
  {
   "cell_type": "code",
   "execution_count": 5,
   "metadata": {},
   "outputs": [],
   "source": [
    "import pandas as pd\n",
    "import numpy as np\n",
    "from scipy.integrate import solve_ivp\n",
    "import matplotlib.pylab as plt"
   ]
  },
  {
   "cell_type": "markdown",
   "metadata": {},
   "source": [
    "### Load data\n",
    "\n",
    ">If working within Google Colab, run the following cell to clone the Github repo to access the data. If not can just skip to the next cell."
   ]
  },
  {
   "cell_type": "code",
   "execution_count": 2,
   "metadata": {},
   "outputs": [],
   "source": [
    "# If using Google Colab, run these lines to import data from github\n",
    "!git clone https://github.com/zhimingkuang/Harvard-AM-115.git\n",
    "%cd Harvard-AM-115/17_COVID19CaseStudy"
   ]
  },
  {
   "cell_type": "code",
   "execution_count": 6,
   "metadata": {},
   "outputs": [],
   "source": [
    "# This code gives an example of how to read in the csv data and a template\n",
    "# for the workshop\n",
    "\n",
    "# change this to the path for your data\n",
    "datapath='./';\n",
    "\n",
    "filename = 'US_states_population.csv'\n",
    "\n",
    "# Load the data\n",
    "try:\n",
    "    population_table = pd.read_csv(f\"{datapath}{filename}\")\n",
    "except FileNotFoundError:\n",
    "    raise FileNotFoundError(f\"Could not find file: {datapath}{filename}\")\n",
    "\n",
    "# Define the target state ID\n",
    "state_id = 544\n",
    "\n",
    "# Filter the DataFrame for the specified state ID\n",
    "state_row = population_table[population_table['LocationID'] == state_id]\n",
    "\n",
    "# Check if the state was found\n",
    "if not state_row.empty:\n",
    "    state_name = state_row['StateName'].values[0]\n",
    "    population = state_row['Population'].values[0]\n",
    "    print(f\"State: {state_name}, Population: {population}\")\n",
    "else:\n",
    "    print(f\"No state found with LocationID = {state_id}\")\n",
    "\n",
    "# read in the state ID and state population\n",
    "PopulationTable=pd.read_csv(datapath+'US_states_population.csv');\n",
    "\n",
    "# choose a state\n",
    "stateid=544\n",
    "\n",
    "rowindex=PopulationTable.LocationID==stateid; #find the corresponding row\n",
    "PopulationTable.StateName[rowindex] # state name\n",
    "N=PopulationTable.Population[rowindex]; # total state population\n"
   ]
  },
  {
   "cell_type": "code",
   "execution_count": 7,
   "metadata": {},
   "outputs": [],
   "source": [
    "def read_covid_data(filename, state_id):\n",
    "    \"\"\"\n",
    "    Reads time series COVID-related data for a specific state.\n",
    "\n",
    "    Parameters:\n",
    "    - filename (str): Path to the CSV file.\n",
    "    - state_id (int): The LocationID of the state to filter.\n",
    "\n",
    "    Returns:\n",
    "    - pd.DataFrame: A DataFrame with 'date' as index and 'mean' values.\n",
    "    \"\"\"\n",
    "    # Load the data\n",
    "    try:\n",
    "        df = pd.read_csv(filename)\n",
    "    except FileNotFoundError:\n",
    "        raise FileNotFoundError(f\"File not found: {filename}\")\n",
    "\n",
    "    # Validate required columns\n",
    "    required_columns = {'location_id', 'date', 'mean'}\n",
    "    if not required_columns.issubset(df.columns):\n",
    "        raise ValueError(f\"Missing required columns: {required_columns - set(df.columns)}\")\n",
    "\n",
    "    # Filter for the specified state ID\n",
    "    state_df = df[df['location_id'] == state_id][['date', 'mean']]\n",
    "\n",
    "    if state_df.empty:\n",
    "        raise ValueError(f\"No data found for state ID {state_id} in file {filename}\")\n",
    "\n",
    "    # Convert date to datetime and set it as index\n",
    "    state_df['date'] = pd.to_datetime(state_df['date'])\n",
    "    state_df.set_index('date', inplace=True)\n",
    "\n",
    "    return state_df\n"
   ]
  },
  {
   "cell_type": "code",
   "execution_count": 8,
   "metadata": {},
   "outputs": [],
   "source": [
    "# Read in daily infection, mobility, and mask use data for a specific state\n",
    "infection       = read_covid_data(f\"{datapath}daily_infections.csv\", state_id)\n",
    "mobility        = read_covid_data(f\"{datapath}mobility.csv\", state_id)\n",
    "mask_use        = read_covid_data(f\"{datapath}mask_use.csv\", state_id)\n",
    "\n",
    "# Merge all three datasets using outer join on the date index\n",
    "data = infection.join(mobility, how='outer', lsuffix='_infection') \\\n",
    "                      .join(mask_use, how='outer', lsuffix='_mobility', rsuffix='_mask_use')\n",
    "\n",
    "# Filter the data to only include dates from Feb 1, 2020 to Sep 21, 2020\n",
    "analysis_start = pd.to_datetime('2020-02-01')\n",
    "analysis_end   = pd.to_datetime('2020-09-21')\n",
    "data = data.loc[analysis_start:analysis_end]\n",
    "\n",
    "# Optional: Check and report missing data\n",
    "if data.isnull().values.any():\n",
    "    print(\"Warning: Missing values detected after merging datasets.\")\n",
    "\n",
    "# ----- Get your ODE solution here -----\n",
    "\n",
    "# Start fitting from March 11, 2020 (to avoid early-pandemic estimation issues)\n",
    "fit_start_date = pd.to_datetime('2020-03-11')\n",
    "fit_data = data.loc[fit_start_date:]\n",
    "\n",
    "# Extract mobility and mask use time series for fitting\n",
    "mask_series     = fit_data['mean_mask_use']\n",
    "mobility_series = fit_data['mean_mobility']\n"
   ]
  },
  {
   "cell_type": "code",
   "execution_count": 9,
   "metadata": {},
   "outputs": [
    {
     "data": {
      "text/plain": [
       "pandas.core.frame.DataFrame"
      ]
     },
     "execution_count": 9,
     "metadata": {},
     "output_type": "execute_result"
    }
   ],
   "source": [
    "type(infection)"
   ]
  },
  {
   "cell_type": "code",
   "execution_count": 22,
   "metadata": {},
   "outputs": [],
   "source": [
    "x=infection.to_numpy()"
   ]
  },
  {
   "cell_type": "code",
   "execution_count": 23,
   "metadata": {},
   "outputs": [
    {
     "data": {
      "text/plain": [
       "numpy.ndarray"
      ]
     },
     "execution_count": 23,
     "metadata": {},
     "output_type": "execute_result"
    }
   ],
   "source": [
    "type(x)"
   ]
  },
  {
   "cell_type": "code",
   "execution_count": null,
   "metadata": {},
   "outputs": [],
   "source": []
  }
 ],
 "metadata": {
  "kernelspec": {
   "display_name": "Python 3 (ipykernel)",
   "language": "python",
   "name": "python3"
  },
  "language_info": {
   "codemirror_mode": {
    "name": "ipython",
    "version": 3
   },
   "file_extension": ".py",
   "mimetype": "text/x-python",
   "name": "python",
   "nbconvert_exporter": "python",
   "pygments_lexer": "ipython3",
   "version": "3.7.7"
  }
 },
 "nbformat": 4,
 "nbformat_minor": 5
}
