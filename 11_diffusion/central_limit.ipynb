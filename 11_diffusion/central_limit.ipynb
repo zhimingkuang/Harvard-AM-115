{
 "cells": [
  {
   "cell_type": "markdown",
   "id": "0db8dc35",
   "metadata": {},
   "source": [
    "[![Open In Colab](https://colab.research.google.com/assets/colab-badge.svg)](https://colab.research.google.com/github/zhimingkuang/Harvard-AM-115/blob/main/11_diffusion/central_limit.ipynb)"
   ]
  },
  {
   "cell_type": "code",
   "execution_count": 1,
   "id": "electrical-stuff",
   "metadata": {},
   "outputs": [],
   "source": [
    "import numpy as np\n",
    "import matplotlib.pyplot as plt"
   ]
  },
  {
   "cell_type": "code",
   "execution_count": 2,
   "id": "d97397f8",
   "metadata": {},
   "outputs": [],
   "source": [
    "# Define probability for a single process\n",
    "s = [1/3, 1/3, 1/3] # uniform distribution\n",
    "# s = [1/10, 2/5, 1/2] # a more weird distribution\n",
    "\n",
    "N = 40 # number of positive bins\n",
    "p = np.zeros(2*N+1)\n",
    "x = np.arange(2*N+1)+1-N-1\n",
    "\n",
    "nT = 50 # number of trials\n",
    "nP = 50 # number of processes"
   ]
  },
  {
   "cell_type": "code",
   "execution_count": 3,
   "id": "bronze-wednesday",
   "metadata": {},
   "outputs": [],
   "source": [
    "for i in range(nT):\n",
    "    # Compute the sum of nP i.i.d processes\n",
    "    v = 0\n",
    "    for ip in range(nP):\n",
    "        r = np.random.rand()\n",
    "        if r < s[0]:\n",
    "            v = v-1\n",
    "        elif r < s[0] + s[1]:\n",
    "            v = v+0\n",
    "        else:\n",
    "            v = v+1\n",
    "\n",
    "    if N+1+v > 0 and N+1+v < 2*N+1:\n",
    "        p[N+v] = p[N+v] + 1"
   ]
  },
  {
   "cell_type": "code",
   "execution_count": 4,
   "id": "ef66d3ed",
   "metadata": {},
   "outputs": [],
   "source": [
    "# Customize for matplotlib\n",
    "# If interested in the matplotlib object hierarchy, check: https://realpython.com/python-matplotlib-guide/\n",
    "plt.rcParams['axes.linewidth'] = 1\n",
    "plt.rcParams['xtick.bottom'] = True\n",
    "plt.rcParams['ytick.left'] = True\n",
    "plt.rcParams['xtick.direction'] = 'in'\n",
    "plt.rcParams['ytick.direction'] = 'in'\n",
    "plt.rcParams['mathtext.default'] = 'regular'\n",
    "# Change font size: http://www.futurile.net/2016/02/27/matplotlib-beautiful-plots-with-style/\n",
    "plt.rcParams['font.size'] = 12\n",
    "plt.rcParams['axes.labelsize'] = 14\n",
    "plt.rcParams['axes.labelweight'] = 'bold'\n",
    "plt.rcParams['xtick.labelsize'] = 12\n",
    "plt.rcParams['ytick.labelsize'] = 12\n",
    "plt.rcParams['legend.fontsize'] = 14\n",
    "plt.rcParams['figure.titlesize'] = 20"
   ]
  },
  {
   "cell_type": "code",
   "execution_count": 5,
   "id": "bf690946",
   "metadata": {},
   "outputs": [
    {
     "data": {
      "image/png": "[encoded data removed]",
      "text/plain": [
       "<Figure size 648x504 with 1 Axes>"
      ]
     },
     "metadata": {
      "needs_background": "light"
     },
     "output_type": "display_data"
    }
   ],
   "source": [
    "fig, ax = plt.subplots(1,1,figsize=(9,7))\n",
    "\n",
    "# Plot simulation result\n",
    "ax.bar(x, p/max(p))\n",
    "\n",
    "# Set axes labels and legend\n",
    "ax.set_xlabel(r'$x$')\n",
    "ax.set_ylabel('probability')\n",
    "\n",
    "plt.show()"
   ]
  }
 ],
 "metadata": {
  "kernelspec": {
   "display_name": "Python 3 (ipykernel)",
   "language": "python",
   "name": "python3"
  },
  "language_info": {
   "codemirror_mode": {
    "name": "ipython",
    "version": 3
   },
   "file_extension": ".py",
   "mimetype": "text/x-python",
   "name": "python",
   "nbconvert_exporter": "python",
   "pygments_lexer": "ipython3",
   "version": "3.9.10"
  }
 },
 "nbformat": 4,
 "nbformat_minor": 5
}
