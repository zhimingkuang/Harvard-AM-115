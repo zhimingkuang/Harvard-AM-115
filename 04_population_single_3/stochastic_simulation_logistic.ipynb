{
 "cells": [
  {
   "cell_type": "markdown",
   "id": "a4fa1da7",
   "metadata": {},
   "source": [
    "[![Open In Colab](https://colab.research.google.com/assets/colab-badge.svg)](https://colab.research.google.com/github/zhimingkuang/Harvard-AM-115/blob/main/04_population_single_3/stochastic_simulation_logistic.ipynb)"
   ]
  },
  {
   "cell_type": "code",
   "execution_count": 1,
   "id": "d90b6266",
   "metadata": {},
   "outputs": [],
   "source": [
    "import numpy as np\n",
    "import matplotlib.pyplot as plt"
   ]
  },
  {
   "cell_type": "markdown",
   "id": "a348124b",
   "metadata": {},
   "source": [
    "Simulation of the stochastic logistic equations, based on \"Modelling biological populations in space and time\", Eric Renshaw"
   ]
  },
  {
   "cell_type": "code",
   "execution_count": 2,
   "id": "8b3027c5",
   "metadata": {},
   "outputs": [],
   "source": [
    "# Set parameters for logistic equation: X_t=R*X*(1-X/K)\n",
    "R = 1.0\n",
    "K  = 50\n",
    "dimP = K*10 # number of points at which pdf is defined, need to be larger than carrying capacity:\n",
    "\n",
    "# Corresponding birth-death probability, see lecture notes for the mapping\n",
    "mu = R/K\n",
    "lam = R*(1-(1/K))\n",
    " \n",
    "# Simulate the stochastic logistic equation, using section 3.4\n",
    "nsteps = 2500\n",
    "N = np.zeros(nsteps)\n",
    "N[0] = 3\n",
    "t = 0\n",
    "dt = 10**(-3)"
   ]
  },
  {
   "cell_type": "code",
   "execution_count": 3,
   "id": "6160c50b",
   "metadata": {},
   "outputs": [],
   "source": [
    "# Think about what happens if dt is too large, and why?\n",
    "while t < nsteps-1 and N[t] > 0:\n",
    "    r = np.random.rand(1)\n",
    "    if r < lam*N[t]*dt:\n",
    "        N[t+1] = N[t]+1\n",
    "    elif r < (lam*N[t] + mu*N[t]*(N[t]-1))*dt:\n",
    "        N[t+1] = N[t]-1\n",
    "    else:\n",
    "        N[t+1] = N[t]\n",
    "    t = t+1"
   ]
  },
  {
   "cell_type": "code",
   "execution_count": 4,
   "id": "f2055fe1",
   "metadata": {},
   "outputs": [],
   "source": [
    "# Customize for matplotlib\n",
    "# If interested in the matplotlib object hierarchy, check: https://realpython.com/python-matplotlib-guide/\n",
    "plt.rcParams['axes.linewidth'] = 1\n",
    "plt.rcParams['xtick.bottom'] = True\n",
    "plt.rcParams['ytick.left'] = True\n",
    "plt.rcParams['xtick.direction'] = 'in'\n",
    "plt.rcParams['ytick.direction'] = 'in'\n",
    "plt.rcParams['mathtext.default'] = 'regular'\n",
    "# Change font size: http://www.futurile.net/2016/02/27/matplotlib-beautiful-plots-with-style/\n",
    "plt.rcParams['font.size'] = 12\n",
    "plt.rcParams['axes.labelsize'] = 14\n",
    "plt.rcParams['axes.labelweight'] = 'bold'\n",
    "plt.rcParams['xtick.labelsize'] = 12\n",
    "plt.rcParams['ytick.labelsize'] = 12\n",
    "plt.rcParams['legend.fontsize'] = 14\n",
    "plt.rcParams['figure.titlesize'] = 20"
   ]
  },
  {
   "cell_type": "code",
   "execution_count": 5,
   "id": "911ac527",
   "metadata": {},
   "outputs": [
    {
     "data": {
      "image/png": "[encoded data removed]",
      "text/plain": [
       "<Figure size 648x504 with 1 Axes>"
      ]
     },
     "metadata": {
      "needs_background": "light"
     },
     "output_type": "display_data"
    }
   ],
   "source": [
    "# Plot solution\n",
    "fig, ax = plt.subplots(1,1,figsize=(9,7))\n",
    "\n",
    "ax.plot(np.arange(nsteps), N, linewidth=1.5)\n",
    "\n",
    "# Set title and axes labels\n",
    "ax.set_title('stochastic simulation')\n",
    "ax.set_xlabel('time steps')\n",
    "ax.set_ylabel(r'$N(T)$')\n",
    "\n",
    "plt.show()"
   ]
  },
  {
   "cell_type": "code",
   "execution_count": null,
   "id": "sixth-mills",
   "metadata": {},
   "outputs": [],
   "source": []
  }
 ],
 "metadata": {
  "kernelspec": {
   "display_name": "Python 3 (ipykernel)",
   "language": "python",
   "name": "python3"
  },
  "language_info": {
   "codemirror_mode": {
    "name": "ipython",
    "version": 3
   },
   "file_extension": ".py",
   "mimetype": "text/x-python",
   "name": "python",
   "nbconvert_exporter": "python",
   "pygments_lexer": "ipython3",
   "version": "3.9.10"
  }
 },
 "nbformat": 4,
 "nbformat_minor": 5
}
