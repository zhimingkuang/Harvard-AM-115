{
 "cells": [
  {
   "cell_type": "markdown",
   "id": "dcc46cfa",
   "metadata": {},
   "source": [
    "[![Open In Colab](https://colab.research.google.com/assets/colab-badge.svg)](https://colab.research.google.com/github/zhimingkuang/Harvard-AM-115/blob/main/10_markov_chain/queuing_markov.ipynb)"
   ]
  },
  {
   "cell_type": "code",
   "execution_count": 1,
   "id": "deadly-yahoo",
   "metadata": {},
   "outputs": [],
   "source": [
    "import numpy as np"
   ]
  },
  {
   "cell_type": "code",
   "execution_count": 2,
   "id": "relevant-villa",
   "metadata": {},
   "outputs": [],
   "source": [
    "N = 10000 # number of trials\n",
    "nt = 100 # number of time steps\n",
    "p = 0.05\n",
    "q = 0.08"
   ]
  },
  {
   "cell_type": "code",
   "execution_count": 3,
   "id": "democratic-cuisine",
   "metadata": {},
   "outputs": [
    {
     "name": "stdout",
     "output_type": "stream",
     "text": [
      "probability = [1. 0. 0.]\n",
      "probability = [0.9454 0.0546 0.    ]\n",
      "probability = [0.9036 0.0937 0.0027]\n",
      "probability = [0.8688 0.1235 0.0077]\n",
      "probability = [0.8322 0.1572 0.0106]\n",
      "probability = [0.8031 0.1791 0.0178]\n",
      "probability = [0.7769 0.1987 0.0244]\n",
      "probability = [0.7529 0.2148 0.0323]\n",
      "probability = [0.7326 0.2285 0.0389]\n",
      "probability = [0.712  0.2396 0.0484]\n",
      "probability = [0.6983 0.2454 0.0563]\n",
      "probability = [0.6814 0.254  0.0646]\n",
      "probability = [0.6642 0.2631 0.0727]\n",
      "probability = [0.6535 0.2673 0.0792]\n",
      "probability = [0.6388 0.2748 0.0864]\n",
      "probability = [0.6311 0.2768 0.0921]\n",
      "probability = [0.6221 0.278  0.0999]\n",
      "probability = [0.616  0.2769 0.1071]\n",
      "probability = [0.6063 0.2802 0.1135]\n",
      "probability = [0.5975 0.2842 0.1183]\n",
      "probability = [0.59   0.2848 0.1252]\n",
      "probability = [0.5829 0.2892 0.1279]\n",
      "probability = [0.5775 0.29   0.1325]\n",
      "probability = [0.5731 0.2879 0.139 ]\n",
      "probability = [0.5699 0.2897 0.1404]\n",
      "probability = [0.5642 0.2932 0.1426]\n",
      "probability = [0.5604 0.2954 0.1442]\n",
      "probability = [0.5594 0.2946 0.146 ]\n",
      "probability = [0.5562 0.2967 0.1471]\n",
      "probability = [0.5491 0.3    0.1509]\n",
      "probability = [0.5473 0.3014 0.1513]\n",
      "probability = [0.5415 0.3046 0.1539]\n",
      "probability = [0.5379 0.3028 0.1593]\n",
      "probability = [0.5324 0.3061 0.1615]\n",
      "probability = [0.5371 0.2991 0.1638]\n",
      "probability = [0.5339 0.2982 0.1679]\n",
      "probability = [0.5288 0.3008 0.1704]\n",
      "probability = [0.5317 0.2975 0.1708]\n",
      "probability = [0.5291 0.3004 0.1705]\n",
      "probability = [0.5274 0.2993 0.1733]\n",
      "probability = [0.5259 0.3001 0.174 ]\n",
      "probability = [0.5223 0.303  0.1747]\n",
      "probability = [0.5206 0.3034 0.176 ]\n",
      "probability = [0.5178 0.307  0.1752]\n",
      "probability = [0.5141 0.3099 0.176 ]\n",
      "probability = [0.5122 0.3078 0.18  ]\n",
      "probability = [0.5074 0.3117 0.1809]\n",
      "probability = [0.511  0.3047 0.1843]\n",
      "probability = [0.5104 0.303  0.1866]\n",
      "probability = [0.5074 0.3068 0.1858]\n",
      "probability = [0.5083 0.3053 0.1864]\n",
      "probability = [0.508  0.3054 0.1866]\n",
      "probability = [0.5079 0.3034 0.1887]\n",
      "probability = [0.505  0.3087 0.1863]\n",
      "probability = [0.5015 0.3132 0.1853]\n",
      "probability = [0.5018 0.3159 0.1823]\n",
      "probability = [0.5008 0.3141 0.1851]\n",
      "probability = [0.4996 0.3123 0.1881]\n",
      "probability = [0.506  0.3055 0.1885]\n",
      "probability = [0.5074 0.3048 0.1878]\n",
      "probability = [0.5094 0.3017 0.1889]\n",
      "probability = [0.5103 0.3027 0.187 ]\n",
      "probability = [0.5121 0.3009 0.187 ]\n",
      "probability = [0.5086 0.3044 0.187 ]\n",
      "probability = [0.5074 0.3068 0.1858]\n",
      "probability = [0.5064 0.3101 0.1835]\n",
      "probability = [0.5105 0.3052 0.1843]\n",
      "probability = [0.512  0.3034 0.1846]\n",
      "probability = [0.5169 0.2988 0.1843]\n",
      "probability = [0.5172 0.2983 0.1845]\n",
      "probability = [0.5145 0.2994 0.1861]\n",
      "probability = [0.5087 0.3027 0.1886]\n",
      "probability = [0.5061 0.3047 0.1892]\n",
      "probability = [0.5032 0.3075 0.1893]\n",
      "probability = [0.5015 0.3098 0.1887]\n",
      "probability = [0.5001 0.3111 0.1888]\n",
      "probability = [0.4955 0.3155 0.189 ]\n",
      "probability = [0.4978 0.3122 0.19  ]\n",
      "probability = [0.4968 0.3145 0.1887]\n",
      "probability = [0.4936 0.3154 0.191 ]\n",
      "probability = [0.4962 0.3126 0.1912]\n",
      "probability = [0.4982 0.3085 0.1933]\n",
      "probability = [0.495  0.3127 0.1923]\n",
      "probability = [0.4973 0.3111 0.1916]\n",
      "probability = [0.4979 0.3109 0.1912]\n",
      "probability = [0.4964 0.31   0.1936]\n",
      "probability = [0.4982 0.3085 0.1933]\n",
      "probability = [0.4976 0.3119 0.1905]\n",
      "probability = [0.4954 0.3115 0.1931]\n",
      "probability = [0.497  0.3105 0.1925]\n",
      "probability = [0.4953 0.3105 0.1942]\n",
      "probability = [0.4978 0.3044 0.1978]\n",
      "probability = [0.4962 0.3068 0.197 ]\n",
      "probability = [0.4951 0.3074 0.1975]\n",
      "probability = [0.495  0.3056 0.1994]\n",
      "probability = [0.4932 0.3102 0.1966]\n",
      "probability = [0.4908 0.3114 0.1978]\n",
      "probability = [0.4903 0.3119 0.1978]\n",
      "probability = [0.4899 0.3133 0.1968]\n",
      "probability = [0.4884 0.3165 0.1951]\n"
     ]
    }
   ],
   "source": [
    "state = np.ones(N)\n",
    "for i in range(nt):\n",
    "    probs = np.histogram(state, [1,2,3,4])[0] / N\n",
    "    print('probability =',probs)\n",
    "    for j in range(N):\n",
    "        r = float(np.random.rand(1))\n",
    "        if state[j] == 1:\n",
    "            if r < p:\n",
    "                state[j] = 2\n",
    "        elif state[j]==2:\n",
    "            if r < p:\n",
    "                state[j] = 3\n",
    "            elif r < p+q:\n",
    "                state[j] = 1\n",
    "        else:\n",
    "            if r < q:\n",
    "                state[j] = 2"
   ]
  },
  {
   "cell_type": "code",
   "execution_count": 4,
   "id": "everyday-duncan",
   "metadata": {},
   "outputs": [
    {
     "name": "stdout",
     "output_type": "stream",
     "text": [
      "A = \n",
      " [[0.95 0.08 0.  ]\n",
      " [0.05 0.87 0.08]\n",
      " [0.   0.05 0.92]]\n",
      "Eigenvalues:\n",
      " [0.80675445 1.         0.93324555]\n",
      "Eigenvectors:\n",
      " [[-0.45496212 -0.80498369 -0.77408722]\n",
      " [ 0.81464126 -0.5031148   0.16211754]\n",
      " [-0.35967914 -0.31444675  0.61196968]]\n"
     ]
    }
   ],
   "source": [
    "A = np.array([[1-p,q,0],[p,1-p-q, q],[0,p,1-q]])\n",
    "[d,v] = np.linalg.eig(A)\n",
    "print(\"A = \\n\", A)\n",
    "print(\"Eigenvalues:\\n\", d)\n",
    "print(\"Eigenvectors:\\n\", v) # note: eigenvectors have different value than MATLAB but\n",
    "                            # they are linearly equivalent (A & eigenvalues are the same)"
   ]
  },
  {
   "cell_type": "code",
   "execution_count": null,
   "id": "portable-turkish",
   "metadata": {},
   "outputs": [],
   "source": []
  }
 ],
 "metadata": {
  "kernelspec": {
   "display_name": "Python 3 (ipykernel)",
   "language": "python",
   "name": "python3"
  },
  "language_info": {
   "codemirror_mode": {
    "name": "ipython",
    "version": 3
   },
   "file_extension": ".py",
   "mimetype": "text/x-python",
   "name": "python",
   "nbconvert_exporter": "python",
   "pygments_lexer": "ipython3",
   "version": "3.9.10"
  }
 },
 "nbformat": 4,
 "nbformat_minor": 5
}
