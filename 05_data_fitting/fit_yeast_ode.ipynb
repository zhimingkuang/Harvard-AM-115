{
 "cells": [
  {
   "cell_type": "markdown",
   "metadata": {},
   "source": [
    "[![Open In Colab](https://colab.research.google.com/assets/colab-badge.svg)](https://colab.research.google.com/github/zhimingkuang/Harvard-AM-115/blob/main/05_data_fitting/fit_yeast_ode.ipynb)"
   ]
  },
  {
   "cell_type": "code",
   "execution_count": null,
   "metadata": {},
   "outputs": [],
   "source": [
    "# If running locally, you may need to install the following packages\n",
    "# Uncomment any needed and run this block (change pip3 with conda if you use Anaconda)\n",
    "# !pip3 install numpy\n",
    "# !pip3 install pandas\n",
    "# !pip3 install xlrd\n",
    "# !pip3 install matplotlib\n",
    "# !pip3 install scipy\n",
    "# !pip3 install statsmodels"
   ]
  },
  {
   "cell_type": "code",
   "execution_count": 2,
   "metadata": {},
   "outputs": [],
   "source": [
    "import numpy as np\n",
    "import pandas as pd\n",
    "import matplotlib.pyplot as plt\n",
    "\n",
    "from scipy.integrate import solve_ivp\n",
    "from scipy.optimize import curve_fit\n",
    "from scipy.interpolate import interp1d\n",
    "from scipy.stats import chisquare\n",
    "from statsmodels.api import qqplot"
   ]
  },
  {
   "cell_type": "markdown",
   "metadata": {},
   "source": [
    "### This code gives an example of how to read in the csv/Excel data and a template for the exercise of modeling running\n"
   ]
  },
  {
   "cell_type": "markdown",
   "metadata": {},
   "source": [
    "If working within Google Colab, run the following cell to clone the Github repo to access the data. If not can just skip to the next cell."
   ]
  },
  {
   "cell_type": "code",
   "execution_count": null,
   "metadata": {},
   "outputs": [],
   "source": [
    "# Load in data if run on Google Colab\n",
    "!git clone https://github.com/zhimingkuang/Harvard-AM-115.git\n",
    "%cd Harvard-AM-115/05_data_fitting"
   ]
  },
  {
   "cell_type": "code",
   "execution_count": 3,
   "metadata": {},
   "outputs": [],
   "source": [
    "# Data import and setup\n",
    "# Give the location of the file, replace with yours\n",
    "loc = ('carlson_yeast_data.xls')\n",
    "\n",
    "# Read in Excel, set up Series\n",
    "yeast_data = pd.read_excel(loc, index_col=None, header='infer')\n",
    "\n",
    "# Separate time and amount into separate Series\n",
    "# Make sure to start at hours = 1 for the data fitting\n",
    "time = yeast_data.iloc[1:,0]\n",
    "amount = yeast_data.iloc[1:,1]\n",
    "\n",
    "# Initial guess of the parameters\n",
    "# We have normalized the parameters so they are of order 1\n",
    "beta0 = [1,1]"
   ]
  },
  {
   "cell_type": "code",
   "execution_count": 4,
   "metadata": {},
   "outputs": [],
   "source": [
    "# Define the ODE to be solved\n",
    "def f(t, y, r, K):\n",
    "    \"\"\"Define the logistic differential equation\n",
    "\n",
    "    Args:\n",
    "        t (float): time\n",
    "        y (numpy.ndarray): population\n",
    "        r (numpy.float64): growth rate\n",
    "        K (numpy.int64): carrying capacity\n",
    "\n",
    "    Returns:\n",
    "        numpy.ndarray: differential equation\n",
    "        \n",
    "    \"\"\"\n",
    "    \n",
    "    ydot = r*y*(1-y/K)\n",
    "    \n",
    "    return ydot"
   ]
  },
  {
   "cell_type": "code",
   "execution_count": 5,
   "metadata": {},
   "outputs": [],
   "source": [
    "# Define the curve to be fitted as a function of parameters and indepenent variable\n",
    "def ode45_logistic(t, beta0, beta1):\n",
    "    \"\"\"Define the logistic differential equation\n",
    "\n",
    "    Args:\n",
    "        t (numpy.ndarray): time\n",
    "        beta0 (numpy.int64): first unknown parameter, growth rate\n",
    "        beta1 (linumpy.int64st): second unknown parameter, carrying capcity\n",
    "\n",
    "    Returns:\n",
    "        numpy.ndarray: y-values after data fitting\n",
    "        \n",
    "    \"\"\"\n",
    "    \n",
    "    # Unpack parameters\n",
    "    y0 = 9.6 # initial yeast population, assumed to be known to simplify the plots\n",
    "    r = beta0*0.5 # growth rate, normalized so beta is of order 1\n",
    "    K = beta1*600 # carrying capacity, normalized so beta is of order 1\n",
    "    t0 = 0 # initial time     \n",
    "    \n",
    "    # Solve the logistic ODE with RK45\n",
    "    sol = solve_ivp(lambda t,y: f(t,y,r,K), [t0,max(t)], [y0], max_step=1.0, rtol=1e-12)\n",
    "    # Unpack solution\n",
    "    t, y = sol.t, sol.y\n",
    "    \n",
    "    # Do the interpolation, which creates a function yfit\n",
    "    yfit = interp1d(t,y[0,:])\n",
    "    y_new = yfit(time)\n",
    "    \n",
    "    return y_new"
   ]
  },
  {
   "cell_type": "code",
   "execution_count": 6,
   "metadata": {},
   "outputs": [
    {
     "name": "stdout",
     "output_type": "stream",
     "text": [
      "Estimated beta parameters\n",
      " beta0: 1.0811190059871583\n",
      " beta1: 1.1067023577878954\n"
     ]
    }
   ],
   "source": [
    "# Estimate the beta parameters\n",
    "params, pcov = curve_fit(ode45_logistic, time, amount, p0=beta0)\n",
    "\n",
    "print(f\"Estimated beta parameters\\n beta0: {params[0]}\\n beta1: {params[1]}\")\n",
    "\n",
    "# Find the predicted values given the best-fit beta parameters\n",
    "yfit = ode45_logistic(time, params[0], params[1])"
   ]
  },
  {
   "cell_type": "code",
   "execution_count": 7,
   "metadata": {},
   "outputs": [],
   "source": [
    "# Customize for matplotlib\n",
    "# If interested in the matplotlib object hierarchy, check: https://realpython.com/python-matplotlib-guide/\n",
    "plt.rcParams['axes.linewidth'] = 1\n",
    "plt.rcParams['xtick.bottom'] = True\n",
    "plt.rcParams['ytick.left'] = True\n",
    "plt.rcParams['xtick.direction'] = 'in'\n",
    "plt.rcParams['ytick.direction'] = 'in'\n",
    "plt.rcParams['mathtext.default'] = 'regular'\n",
    "# Change font size: http://www.futurile.net/2016/02/27/matplotlib-beautiful-plots-with-style/\n",
    "plt.rcParams['font.size'] = 12\n",
    "plt.rcParams['axes.labelsize'] = 14\n",
    "plt.rcParams['axes.labelweight'] = 'bold'\n",
    "plt.rcParams['xtick.labelsize'] = 12\n",
    "plt.rcParams['ytick.labelsize'] = 12\n",
    "plt.rcParams['legend.fontsize'] = 14\n",
    "plt.rcParams['figure.titlesize'] = 20"
   ]
  },
  {
   "cell_type": "code",
   "execution_count": 8,
   "metadata": {},
   "outputs": [
    {
     "data": {
      "image/png": "[encoded data removed]",
      "text/plain": [
       "<Figure size 648x504 with 1 Axes>"
      ]
     },
     "metadata": {
      "needs_background": "light"
     },
     "output_type": "display_data"
    }
   ],
   "source": [
    "# Plot solution\n",
    "fig, ax = plt.subplots(1,1,figsize=(9,7))\n",
    "\n",
    "plt.plot(time, amount, 'o', linewidth=1.5, mfc='none', ms=5.5, mew=1.5, label='data')\n",
    "plt.plot(time, yfit, '--', linewidth=1.5, mfc='none', ms=5.5, mew=1.5, label='fit')\n",
    "\n",
    "# Set axes labels and legends\n",
    "ax.set_xlabel('time')\n",
    "ax.set_ylabel('amount')\n",
    "ax.legend(loc='lower right')\n",
    "\n",
    "plt.show()"
   ]
  },
  {
   "cell_type": "markdown",
   "metadata": {},
   "source": [
    "### Our work is not done!\n",
    "Need to test whether the residual is consistent with our assumptions. Use chi-square goodness of fit.\n",
    "\n",
    "If we know the measurement precision, we can compare MSE to the expected MSE to test the goodness of fit. While don't know the measurement precision here, we can still test if the residuals is consistent with a normal distribution with  the mean and standard deviation estimated from the residuals."
   ]
  },
  {
   "cell_type": "code",
   "execution_count": 9,
   "metadata": {},
   "outputs": [
    {
     "ename": "ValueError",
     "evalue": "For each axis slice, the sum of the observed frequencies must agree with the sum of the expected frequencies to a relative tolerance of 1e-08, but the percent differences are:\n0.0005472343100901218",
     "output_type": "error",
     "traceback": [
      "\u001b[0;31m---------------------------------------------------------------------------\u001b[0m",
      "\u001b[0;31mValueError\u001b[0m                                Traceback (most recent call last)",
      "Input \u001b[0;32mIn [9]\u001b[0m, in \u001b[0;36m<module>\u001b[0;34m\u001b[0m\n\u001b[1;32m      6\u001b[0m observe \u001b[38;5;241m=\u001b[39m ode45_logistic(time, \u001b[38;5;241m*\u001b[39mparams)\n\u001b[1;32m      7\u001b[0m expected \u001b[38;5;241m=\u001b[39m amount\n\u001b[0;32m----> 8\u001b[0m stat, p \u001b[38;5;241m=\u001b[39m \u001b[43mchisquare\u001b[49m\u001b[43m(\u001b[49m\u001b[43mobserve\u001b[49m\u001b[43m,\u001b[49m\u001b[43m \u001b[49m\u001b[43mexpected\u001b[49m\u001b[43m)\u001b[49m\n\u001b[1;32m     10\u001b[0m \u001b[38;5;28mprint\u001b[39m(\u001b[38;5;124mf\u001b[39m\u001b[38;5;124m'\u001b[39m\u001b[38;5;124mChi-square test statistics: \u001b[39m\u001b[38;5;132;01m{\u001b[39;00mstat\u001b[38;5;132;01m}\u001b[39;00m\u001b[38;5;124m, p-value: \u001b[39m\u001b[38;5;132;01m{\u001b[39;00mp\u001b[38;5;132;01m}\u001b[39;00m\u001b[38;5;124m'\u001b[39m)\n",
      "File \u001b[0;32m/opt/homebrew/lib/python3.9/site-packages/scipy/stats/stats.py:6852\u001b[0m, in \u001b[0;36mchisquare\u001b[0;34m(f_obs, f_exp, ddof, axis)\u001b[0m\n\u001b[1;32m   6728\u001b[0m \u001b[38;5;28;01mdef\u001b[39;00m \u001b[38;5;21mchisquare\u001b[39m(f_obs, f_exp\u001b[38;5;241m=\u001b[39m\u001b[38;5;28;01mNone\u001b[39;00m, ddof\u001b[38;5;241m=\u001b[39m\u001b[38;5;241m0\u001b[39m, axis\u001b[38;5;241m=\u001b[39m\u001b[38;5;241m0\u001b[39m):\n\u001b[1;32m   6729\u001b[0m     \u001b[38;5;124;03m\"\"\"Calculate a one-way chi-square test.\u001b[39;00m\n\u001b[1;32m   6730\u001b[0m \n\u001b[1;32m   6731\u001b[0m \u001b[38;5;124;03m    The chi-square test tests the null hypothesis that the categorical data\u001b[39;00m\n\u001b[0;32m   (...)\u001b[0m\n\u001b[1;32m   6850\u001b[0m \n\u001b[1;32m   6851\u001b[0m \u001b[38;5;124;03m    \"\"\"\u001b[39;00m\n\u001b[0;32m-> 6852\u001b[0m     \u001b[38;5;28;01mreturn\u001b[39;00m \u001b[43mpower_divergence\u001b[49m\u001b[43m(\u001b[49m\u001b[43mf_obs\u001b[49m\u001b[43m,\u001b[49m\u001b[43m \u001b[49m\u001b[43mf_exp\u001b[49m\u001b[38;5;241;43m=\u001b[39;49m\u001b[43mf_exp\u001b[49m\u001b[43m,\u001b[49m\u001b[43m \u001b[49m\u001b[43mddof\u001b[49m\u001b[38;5;241;43m=\u001b[39;49m\u001b[43mddof\u001b[49m\u001b[43m,\u001b[49m\u001b[43m \u001b[49m\u001b[43maxis\u001b[49m\u001b[38;5;241;43m=\u001b[39;49m\u001b[43maxis\u001b[49m\u001b[43m,\u001b[49m\n\u001b[1;32m   6853\u001b[0m \u001b[43m                            \u001b[49m\u001b[43mlambda_\u001b[49m\u001b[38;5;241;43m=\u001b[39;49m\u001b[38;5;124;43m\"\u001b[39;49m\u001b[38;5;124;43mpearson\u001b[39;49m\u001b[38;5;124;43m\"\u001b[39;49m\u001b[43m)\u001b[49m\n",
      "File \u001b[0;32m/opt/homebrew/lib/python3.9/site-packages/scipy/stats/stats.py:6694\u001b[0m, in \u001b[0;36mpower_divergence\u001b[0;34m(f_obs, f_exp, ddof, axis, lambda_)\u001b[0m\n\u001b[1;32m   6688\u001b[0m     \u001b[38;5;28;01mif\u001b[39;00m diff_gt_tol:\n\u001b[1;32m   6689\u001b[0m         msg \u001b[38;5;241m=\u001b[39m (\u001b[38;5;124mf\u001b[39m\u001b[38;5;124m\"\u001b[39m\u001b[38;5;124mFor each axis slice, the sum of the observed \u001b[39m\u001b[38;5;124m\"\u001b[39m\n\u001b[1;32m   6690\u001b[0m                \u001b[38;5;124mf\u001b[39m\u001b[38;5;124m\"\u001b[39m\u001b[38;5;124mfrequencies must agree with the sum of the \u001b[39m\u001b[38;5;124m\"\u001b[39m\n\u001b[1;32m   6691\u001b[0m                \u001b[38;5;124mf\u001b[39m\u001b[38;5;124m\"\u001b[39m\u001b[38;5;124mexpected frequencies to a relative tolerance \u001b[39m\u001b[38;5;124m\"\u001b[39m\n\u001b[1;32m   6692\u001b[0m                \u001b[38;5;124mf\u001b[39m\u001b[38;5;124m\"\u001b[39m\u001b[38;5;124mof \u001b[39m\u001b[38;5;132;01m{\u001b[39;00mrtol\u001b[38;5;132;01m}\u001b[39;00m\u001b[38;5;124m, but the percent differences are:\u001b[39m\u001b[38;5;130;01m\\n\u001b[39;00m\u001b[38;5;124m\"\u001b[39m\n\u001b[1;32m   6693\u001b[0m                \u001b[38;5;124mf\u001b[39m\u001b[38;5;124m\"\u001b[39m\u001b[38;5;132;01m{\u001b[39;00mrelative_diff\u001b[38;5;132;01m}\u001b[39;00m\u001b[38;5;124m\"\u001b[39m)\n\u001b[0;32m-> 6694\u001b[0m         \u001b[38;5;28;01mraise\u001b[39;00m \u001b[38;5;167;01mValueError\u001b[39;00m(msg)\n\u001b[1;32m   6696\u001b[0m \u001b[38;5;28;01melse\u001b[39;00m:\n\u001b[1;32m   6697\u001b[0m     \u001b[38;5;66;03m# Ignore 'invalid' errors so the edge case of a data set with length 0\u001b[39;00m\n\u001b[1;32m   6698\u001b[0m     \u001b[38;5;66;03m# is handled without spurious warnings.\u001b[39;00m\n\u001b[1;32m   6699\u001b[0m     \u001b[38;5;28;01mwith\u001b[39;00m np\u001b[38;5;241m.\u001b[39merrstate(invalid\u001b[38;5;241m=\u001b[39m\u001b[38;5;124m'\u001b[39m\u001b[38;5;124mignore\u001b[39m\u001b[38;5;124m'\u001b[39m):\n",
      "\u001b[0;31mValueError\u001b[0m: For each axis slice, the sum of the observed frequencies must agree with the sum of the expected frequencies to a relative tolerance of 1e-08, but the percent differences are:\n0.0005472343100901218"
     ]
    }
   ],
   "source": [
    "# Compute the residuals\n",
    "residuals = amount - ode45_logistic(time, *params)\n",
    "\n",
    "# Perform the chi-square goodness of fit test, using the predicted data and the actual data\n",
    "# Need to normalize both inputs due to this change: https://github.com/scipy/scipy/issues/13362\n",
    "observe = ode45_logistic(time, *params)\n",
    "expected = amount\n",
    "stat, p = chisquare(observe, expected)\n",
    "\n",
    "print(f'Chi-square test statistics: {stat}, p-value: {p}')"
   ]
  },
  {
   "cell_type": "markdown",
   "metadata": {},
   "source": [
    "The null hypothesis:  that the residuals are drawn from a normal distribution with the mean and standard deviation estimated from the residuals.\n",
    "\n",
    "The smaller the p-value: indicates greater confidence in rejecting the null hypothesis.\n",
    "\n",
    "h=0 means we cannot reject the null hypothesis that R is drawn from a normal distribution with the mean and standard deviation estimated from the residuals p is the p-value. Smaller p-value indicates greater confidence in rejecting the null hypothesis."
   ]
  },
  {
   "cell_type": "code",
   "execution_count": 10,
   "metadata": {},
   "outputs": [
    {
     "data": {
      "image/png": "[encoded data removed]",
      "text/plain": [
       "<Figure size 432x288 with 1 Axes>"
      ]
     },
     "metadata": {
      "needs_background": "light"
     },
     "output_type": "display_data"
    }
   ],
   "source": [
    "# Plot solution\n",
    "# fig, ax = plt.subplots(1,1,figsize=(9,7))\n",
    "\n",
    "# A more visual way to look at the results with quantile quantile plot\n",
    "fig = qqplot(residuals, fit=True, line=\"45\")\n",
    "\n",
    "# # Set axes labels and legends\n",
    "# ax.set_xlabel('standard normal quantiles')\n",
    "# ax.set_ylabel('quantiles of input sample')\n",
    "# ax.legend(loc='lower right')\n",
    "# ax.set_title('QQ plot of sample data v.s. standard normal')\n",
    "\n",
    "plt.show()"
   ]
  },
  {
   "cell_type": "code",
   "execution_count": null,
   "metadata": {},
   "outputs": [],
   "source": []
  }
 ],
 "metadata": {
  "kernelspec": {
   "display_name": "Python 3 (ipykernel)",
   "language": "python",
   "name": "python3"
  },
  "language_info": {
   "codemirror_mode": {
    "name": "ipython",
    "version": 3
   },
   "file_extension": ".py",
   "mimetype": "text/x-python",
   "name": "python",
   "nbconvert_exporter": "python",
   "pygments_lexer": "ipython3",
   "version": "3.9.10"
  },
  "metadata": {
   "interpreter": {
    "hash": "7812ea015bdcee6f23a998adcdd2ef97c151c0c241b7b7070987d9313e41299d"
   }
  }
 },
 "nbformat": 4,
 "nbformat_minor": 2
}
