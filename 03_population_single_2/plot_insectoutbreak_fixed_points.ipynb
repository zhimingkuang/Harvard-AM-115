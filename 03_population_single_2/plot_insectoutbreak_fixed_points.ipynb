{
 "cells": [
  {
   "cell_type": "markdown",
   "metadata": {},
   "source": [
    "[![Open In Colab](https://colab.research.google.com/assets/colab-badge.svg)](https://colab.research.google.com/github/zhimingkuang/Harvard-AM-115/blob/main/03_population_single_2/plot_insectoutbreak_fixed_points.ipynb)"
   ]
  },
  {
   "cell_type": "code",
   "execution_count": 1,
   "metadata": {},
   "outputs": [],
   "source": [
    "import numpy as np \n",
    "import matplotlib.pyplot as plt"
   ]
  },
  {
   "cell_type": "code",
   "execution_count": 2,
   "metadata": {},
   "outputs": [],
   "source": [
    "def insect_growth(r, k, x): \n",
    "    \"\"\"Compute the time tendency insect growth dlnx/dtau\n",
    "\n",
    "    Args:\n",
    "        r (float): nondimensional growth rate per capita\n",
    "        k (float): nondimensional carrying capacity\n",
    "        x (numpy.ndarray): nondimensional insect population\n",
    "\n",
    "    Returns:\n",
    "        numpy.ndarray: time tendency of x\n",
    "    \"\"\"\n",
    "    \n",
    "    return r * (1.-x/k) - x / (1.+x**2)"
   ]
  },
  {
   "cell_type": "code",
   "execution_count": 3,
   "metadata": {},
   "outputs": [],
   "source": [
    "def plot_fixed_points(r, k, line_color='r'):\n",
    "    \"\"\"Compute the time tendency insect growth dlnx/dtau\n",
    "\n",
    "    Args:\n",
    "        r (float): nondimensional growth rate per capita\n",
    "        k (float): nondimensional carrying capacity\n",
    "        line_color (text): color of the plot\n",
    "\n",
    "    Returns:\n",
    "        None: use to plot the non-zero fixed points\n",
    "    \"\"\"\n",
    "    \n",
    "    # Define a set of values for nondimensional insect population\n",
    "    x = np.linspace(0,1,100) * k\n",
    "    # Compute insect growth\n",
    "    dlnxdtau = insect_growth(r, k, x)\n",
    "    \n",
    "    # Customize for matplotlib\n",
    "    # If interested in the matplotlib object hierarchy, check: https://realpython.com/python-matplotlib-guide/\n",
    "    plt.rcParams['axes.linewidth'] = 1\n",
    "    plt.rcParams['xtick.bottom'] = True\n",
    "    plt.rcParams['ytick.left'] = True\n",
    "    plt.rcParams['xtick.direction'] = 'in'\n",
    "    plt.rcParams['ytick.direction'] = 'in'\n",
    "    plt.rcParams['mathtext.default'] = 'regular'\n",
    "    # Change font size: http://www.futurile.net/2016/02/27/matplotlib-beautiful-plots-with-style/\n",
    "    plt.rcParams['font.size'] = 12\n",
    "    plt.rcParams['axes.labelsize'] = 14\n",
    "    plt.rcParams['axes.labelweight'] = 'bold'\n",
    "    plt.rcParams['xtick.labelsize'] = 12\n",
    "    plt.rcParams['ytick.labelsize'] = 12\n",
    "    plt.rcParams['legend.fontsize'] = 14\n",
    "    plt.rcParams['figure.titlesize'] = 20\n",
    "    \n",
    "    # Plot solution\n",
    "    fig, ax = plt.subplots(1,1,figsize=(9,7))\n",
    "\n",
    "    ax.plot(x, dlnxdtau, linewidth=1.5, color=line_color)\n",
    "    # Plot horizontal reference x=0\n",
    "    ax.plot(x, np.zeros(len(x)), '--', linewidth=1.0, color='0.2')\n",
    "\n",
    "    # Set axes limits and labels\n",
    "    ax.set_xlim(x.min(), x.max())\n",
    "    ax.set_xlabel('x (nondimensional insect population)')\n",
    "    ax.set_ylabel(r'$d\\ln(x) / d\\tau$')\n",
    "\n",
    "    plt.show()\n",
    "    \n",
    "    return "
   ]
  },
  {
   "cell_type": "code",
   "execution_count": 4,
   "metadata": {},
   "outputs": [
    {
     "data": {
      "image/png": "[encoded data removed]",
      "text/plain": [
       "<Figure size 648x504 with 1 Axes>"
      ]
     },
     "metadata": {
      "needs_background": "light"
     },
     "output_type": "display_data"
    }
   ],
   "source": [
    "plot_fixed_points(0.1, 0.2)"
   ]
  },
  {
   "cell_type": "code",
   "execution_count": null,
   "metadata": {},
   "outputs": [],
   "source": []
  }
 ],
 "metadata": {
  "kernelspec": {
   "display_name": "Python 3 (ipykernel)",
   "language": "python",
   "name": "python3"
  },
  "language_info": {
   "codemirror_mode": {
    "name": "ipython",
    "version": 3
   },
   "file_extension": ".py",
   "mimetype": "text/x-python",
   "name": "python",
   "nbconvert_exporter": "python",
   "pygments_lexer": "ipython3",
   "version": "3.9.10"
  }
 },
 "nbformat": 4,
 "nbformat_minor": 2
}
