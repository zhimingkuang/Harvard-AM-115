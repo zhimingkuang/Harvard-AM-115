{
 "cells": [
  {
   "cell_type": "markdown",
   "metadata": {},
   "source": [
    "[![Open In Colab](https://colab.research.google.com/assets/colab-badge.svg)](https://colab.research.google.com/github/zhimingkuang/Harvard-AM-115/blob/main/03_population_single_2/solve_ivp_insectoutbreak_class.ipynb)"
   ]
  },
  {
   "cell_type": "code",
   "execution_count": 1,
   "metadata": {},
   "outputs": [],
   "source": [
    "import numpy as np \n",
    "import matplotlib.pyplot as plt \n",
    "from scipy.integrate import solve_ivp"
   ]
  },
  {
   "cell_type": "markdown",
   "metadata": {},
   "source": [
    "We will use the Python package `solve_ivp` to solve the ODE, which uses RK45 by default. Here are the main parameters and returns of `solve_ivp`: \n",
    "\n",
    "\n",
    "`parameters:`\n",
    "\n",
    "    fun    :      right-hand side of the system of the form fun(t, y)\n",
    "    t_span :      2-tuple of floats of the interval of integration (t0, tf) \n",
    "    y0     :      initial state in array-like format (n,)\n",
    "    args   :      optional, tuple of additional arguments to pass to the user-defined function\n",
    "                  if fun has the form fun(t, y, a, b, c), we would have args = (a, b, c)\n",
    "    \n",
    "`returns: `\n",
    "\n",
    "    t      :      time points \n",
    "    y      :      values of the solution at time t\n",
    "\n",
    "\n",
    "For more information on `solve_ivp`, see the <a href=\"https://docs.scipy.org/doc/scipy/reference/generated/scipy.integrate.solve_ivp.html\" target=\"_blank\">Python documentation</a>."
   ]
  },
  {
   "cell_type": "code",
   "execution_count": 2,
   "metadata": {},
   "outputs": [],
   "source": [
    "# Define the function on the right hand side of the ODE to be integrated\n",
    "def f(t, y, K, A, B, R): \n",
    "    \"\"\"Define the function on the right hand side of the ODE to be integrated\n",
    "\n",
    "    Args:\n",
    "        t (float): time (1-D independent variable)\n",
    "        y (numpy.ndarray): population (N-D vector-valued function)\n",
    "        K (float): carrying capacity\n",
    "        A (float): parameter for the predation term (see lecture notes for details)\n",
    "        B (float): parameter for the predation term (see lecture notes for details)\n",
    "        R (float): growth rate per capita without crowding\n",
    "\n",
    "    Returns:\n",
    "        numpy.ndarray: differential equation\n",
    "    \"\"\"\n",
    "    \n",
    "    return R * y * (1-y/K) - B*y**2 / (A**2+y**2)"
   ]
  },
  {
   "cell_type": "code",
   "execution_count": 3,
   "metadata": {},
   "outputs": [],
   "source": [
    "# Set initial condition\n",
    "y0 = 5.           \n",
    "# Solve ODE with RK45\n",
    "# max_step is another way to ensure we have enough solution points for smoother results\n",
    "sol = solve_ivp(f, [0,50], [y0], args=(20.,1.,1.,0.25), max_step=1.)\n",
    "# Unpack solution\n",
    "t, y = sol.t, sol.y"
   ]
  },
  {
   "cell_type": "code",
   "execution_count": 4,
   "metadata": {},
   "outputs": [],
   "source": [
    "# Customize for matplotlib\n",
    "# If interested in the matplotlib object hierarchy, check: https://realpython.com/python-matplotlib-guide/\n",
    "plt.rcParams['axes.linewidth'] = 1\n",
    "plt.rcParams['xtick.bottom'] = True\n",
    "plt.rcParams['ytick.left'] = True\n",
    "plt.rcParams['xtick.direction'] = 'in'\n",
    "plt.rcParams['ytick.direction'] = 'in'\n",
    "plt.rcParams['mathtext.default'] = 'regular'\n",
    "# Change font size: http://www.futurile.net/2016/02/27/matplotlib-beautiful-plots-with-style/\n",
    "plt.rcParams['font.size'] = 12\n",
    "plt.rcParams['axes.labelsize'] = 14\n",
    "plt.rcParams['axes.labelweight'] = 'bold'\n",
    "plt.rcParams['xtick.labelsize'] = 12\n",
    "plt.rcParams['ytick.labelsize'] = 12\n",
    "plt.rcParams['legend.fontsize'] = 14\n",
    "plt.rcParams['figure.titlesize'] = 20"
   ]
  },
  {
   "cell_type": "code",
   "execution_count": 5,
   "metadata": {},
   "outputs": [
    {
     "data": {
      "image/png": "[encoded data removed]",
      "text/plain": [
       "<Figure size 648x504 with 1 Axes>"
      ]
     },
     "metadata": {
      "needs_background": "light"
     },
     "output_type": "display_data"
    }
   ],
   "source": [
    "# Plot solution\n",
    "fig, ax = plt.subplots(1,1,figsize=(9,7))\n",
    "\n",
    "ax.plot(t, y[0,:], '-o', linewidth=1.5, mfc='none', ms=5.5, mew=1.5)\n",
    "\n",
    "# Set axes labels\n",
    "ax.set_xlabel(r'$t$')\n",
    "ax.set_ylabel(r'$y$')\n",
    "\n",
    "plt.show()"
   ]
  },
  {
   "cell_type": "code",
   "execution_count": null,
   "metadata": {},
   "outputs": [],
   "source": []
  }
 ],
 "metadata": {
  "kernelspec": {
   "display_name": "Python 3 (ipykernel)",
   "language": "python",
   "name": "python3"
  },
  "language_info": {
   "codemirror_mode": {
    "name": "ipython",
    "version": 3
   },
   "file_extension": ".py",
   "mimetype": "text/x-python",
   "name": "python",
   "nbconvert_exporter": "python",
   "pygments_lexer": "ipython3",
   "version": "3.9.10"
  }
 },
 "nbformat": 4,
 "nbformat_minor": 2
}
