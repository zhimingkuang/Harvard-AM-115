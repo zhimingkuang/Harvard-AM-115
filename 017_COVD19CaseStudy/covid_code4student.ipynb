{
 "cells": [
  {
   "cell_type": "markdown",
   "metadata": {},
   "source": [
    "[![Open In Colab](https://colab.research.google.com/assets/colab-badge.svg)](https://colab.research.google.com/github/zhimingkuang/Harvard-AM-115/blob/main/05_model_fitting/fit_yeast_ode.ipynb)"
   ]
  },
  {
   "cell_type": "markdown",
   "metadata": {},
   "source": [
    "## This code fits the yeast data to the logistic equation\n",
    "\n",
    "It gives an example of how to read in the csv data and provides a template for the exercise of modeling running."
   ]
  },
{
   "cell_type": "code",
   "execution_count": 5,
   "metadata": {},
   "outputs": [],
   "source": [
    "import pandas as pd\n",
    "import numpy as np\n",
    "from scipy.integrate import ode\n",
    "import matplotlib.pylab as plt"
   ]
  },
  {
   "cell_type": "code",
   "execution_count": 6,
   "metadata": {},
   "outputs": [],
   "source": [
    "# This code gives an example of how to read in the csv data and a template\n",
    "# for the workshop\n",
    "\n",
    "# change this to the path for your data\n",
    "datapath='./';\n",
    "\n",
    "# read in the state ID and state population\n",
    "PopulationTable=pd.read_csv(datapath+'US_states_population.csv');\n",
    "\n",
    "# choose a state\n",
    "stateid=544\n",
    "\n",
    "rowindex=PopulationTable.LocationID==stateid; #find the corresponding row\n",
    "PopulationTable.StateName[rowindex] # state name\n",
    "N=PopulationTable.Population[rowindex]; # total state population"
   ]
  },
  {
   "cell_type": "code",
   "execution_count": 7,
   "metadata": {},
   "outputs": [],
   "source": [
    "# Read the data for a given state\n",
    "def read_covid_data(filename,stateid):\n",
    "    # read in the data as a table\n",
    "    T=pd.read_csv(filename);\n",
    "    rows=T.location_id==stateid;\n",
    "    stateT=T[rows][['date','mean']]\n",
    "    # Turn into a time table\n",
    "#     data = table2timetable( stateT, 'RowTimes','Var1');\n",
    "    stateT['date']=pd.to_datetime(stateT['date'])\n",
    "    stateT=stateT.set_index('date')\n",
    "    return stateT\n",
    "\n",
    "# Creating a function equivalent to ode45 in Matlab\n",
    "def ode45(f,tint,y0,rtol=1e-9):\n",
    "    r = ode(f).set_integrator('zvode', method='bdf',rtol=rtol)\n",
    "    r.set_initial_value(y0, tint[0])\n",
    "    dt=(tint[1]-tint[0])/10000\n",
    "    t1 = tint[1]\n",
    "    tt=[]\n",
    "    rr=[]\n",
    "    while r.successful() and r.t < t1:\n",
    "        tt.append(r.t+dt)\n",
    "        rr.append(np.real(r.integrate(r.t+dt)))\n",
    "    return np.array(tt),np.array(rr)"
   ]
  },
  {
   "cell_type": "code",
   "execution_count": 8,
   "metadata": {},
   "outputs": [],
   "source": [
    "# Read in daily infection, mobility and mask use\n",
    "# using a function at the end of this file.\n",
    "# You could choose to copy and paste that function into a separate file\n",
    "dailyinfection=read_covid_data(datapath+'daily_infections.csv',stateid);\n",
    "mobility=read_covid_data(datapath+'mobility.csv',stateid);\n",
    "mask=read_covid_data(datapath+'mask_use.csv',stateid);\n",
    "\n",
    "# synchronize the timetables so they line up in time\n",
    "data=dailyinfection.join(mobility,how='outer',lsuffix='_dailyinfection',rsuffix='').join(mask,how='outer',lsuffix='_mobility',rsuffix='_mask');\n",
    "\n",
    "# select the time range for the analysis\n",
    "# the datasets contain data after 2020-09-21 but those are projections at\n",
    "# the time the paper was written.\n",
    "TR = pd.date_range('2020-02-01','2020-09-21');\n",
    "data=data.loc[TR];\n",
    "\n",
    "# ---------get your ODE solution here\n",
    "\n",
    "# -----start the fit from March 11, 2020\n",
    "# beta estimated very early in the pandemic may be subject to \n",
    "# large uncertainties, as imported cases may be important compared to\n",
    "# community spread\n",
    "mask=data.mean_mask[39:];\n",
    "mobility=data.mean_mobility[39:];\n"
   ]
  },
  {
   "cell_type": "code",
   "execution_count": 9,
   "metadata": {},
   "outputs": [
    {
     "data": {
      "text/plain": [
       "pandas.core.frame.DataFrame"
      ]
     },
     "execution_count": 9,
     "metadata": {},
     "output_type": "execute_result"
    }
   ],
   "source": [
    "type(dailyinfection)"
   ]
  },
  {
   "cell_type": "code",
   "execution_count": 22,
   "metadata": {},
   "outputs": [],
   "source": [
    "x=dailyinfection.to_numpy()"
   ]
  },
  {
   "cell_type": "code",
   "execution_count": 23,
   "metadata": {},
   "outputs": [
    {
     "data": {
      "text/plain": [
       "numpy.ndarray"
      ]
     },
     "execution_count": 23,
     "metadata": {},
     "output_type": "execute_result"
    }
   ],
   "source": [
    "type(x)"
   ]
  },
  {
   "cell_type": "code",
   "execution_count": null,
   "metadata": {},
   "outputs": [],
   "source": []
  }
 ],
 "metadata": {
  "kernelspec": {
   "display_name": "Python 3 (ipykernel)",
   "language": "python",
   "name": "python3"
  },
  "language_info": {
   "codemirror_mode": {
    "name": "ipython",
    "version": 3
   },
   "file_extension": ".py",
   "mimetype": "text/x-python",
   "name": "python",
   "nbconvert_exporter": "python",
   "pygments_lexer": "ipython3",
   "version": "3.7.7"
  }
 },
 "nbformat": 4,
 "nbformat_minor": 5
}
