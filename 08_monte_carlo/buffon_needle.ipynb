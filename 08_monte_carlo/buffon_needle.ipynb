{
 "cells": [
  {
   "cell_type": "markdown",
   "metadata": {},
   "source": [
    "[![Open In Colab](https://colab.research.google.com/assets/colab-badge.svg)](https://colab.research.google.com/github/zhimingkuang/Harvard-AM-115/blob/main/08_monte_carlo/buffon_needle.ipynb)"
   ]
  },
  {
   "cell_type": "code",
   "execution_count": 1,
   "metadata": {},
   "outputs": [],
   "source": [
    "import numpy as np"
   ]
  },
  {
   "cell_type": "code",
   "execution_count": 2,
   "metadata": {},
   "outputs": [],
   "source": [
    "def buffon_needle(N):\n",
    "    \"\"\"Calculate pi\n",
    "\n",
    "    Args:\n",
    "        N (integer): number of needle drops\n",
    "\n",
    "    Returns:\n",
    "        float: estimate of pi\n",
    "    \"\"\"\n",
    "    \n",
    "    D = np.random.uniform(0,0.5,N)\n",
    "    theta = np.random.uniform(0,1,N) * np.pi          \n",
    "    hits = np.count_nonzero(D <= 0.5 * np.sin(theta))\n",
    "    \n",
    "    return 2*N / hits"
   ]
  },
  {
   "cell_type": "code",
   "execution_count": 3,
   "metadata": {},
   "outputs": [
    {
     "data": {
      "text/plain": [
       "3.141542183057663"
      ]
     },
     "execution_count": 3,
     "metadata": {},
     "output_type": "execute_result"
    }
   ],
   "source": [
    "buffon_needle(10**7)"
   ]
  }
 ],
 "metadata": {
  "kernelspec": {
   "display_name": "Python 3 (ipykernel)",
   "language": "python",
   "name": "python3"
  },
  "language_info": {
   "codemirror_mode": {
    "name": "ipython",
    "version": 3
   },
   "file_extension": ".py",
   "mimetype": "text/x-python",
   "name": "python",
   "nbconvert_exporter": "python",
   "pygments_lexer": "ipython3",
   "version": "3.9.10"
  }
 },
 "nbformat": 4,
 "nbformat_minor": 4
}
